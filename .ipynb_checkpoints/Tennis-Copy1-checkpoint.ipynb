{
 "cells": [
  {
   "cell_type": "markdown",
   "metadata": {},
   "source": [
    "# Collaboration and Competition\n",
    "\n",
    "---\n",
    "\n",
    "In this notebook, you will learn how to use the Unity ML-Agents environment for the third project of the [Deep Reinforcement Learning Nanodegree](https://www.udacity.com/course/deep-reinforcement-learning-nanodegree--nd893) program.\n",
    "\n",
    "### 1. Start the Environment\n",
    "\n",
    "We begin by importing the necessary packages.  If the code cell below returns an error, please revisit the project instructions to double-check that you have installed [Unity ML-Agents](https://github.com/Unity-Technologies/ml-agents/blob/master/docs/Installation.md) and [NumPy](http://www.numpy.org/)."
   ]
  },
  {
   "cell_type": "code",
   "execution_count": 1,
   "metadata": {},
   "outputs": [],
   "source": [
    "from unityagents import UnityEnvironment\n",
    "import numpy as np"
   ]
  },
  {
   "cell_type": "code",
   "execution_count": 2,
   "metadata": {},
   "outputs": [],
   "source": [
    "import torch\n",
    "import numpy as np\n",
    "import time\n",
    "from datetime import timedelta\n",
    "from collections import deque\n",
    "import matplotlib.pyplot as plt\n",
    "%matplotlib inline"
   ]
  },
  {
   "cell_type": "markdown",
   "metadata": {},
   "source": [
    "Next, we will start the environment!  **_Before running the code cell below_**, change the `file_name` parameter to match the location of the Unity environment that you downloaded.\n",
    "\n",
    "- **Mac**: `\"path/to/Tennis.app\"`\n",
    "- **Windows** (x86): `\"path/to/Tennis_Windows_x86/Tennis.exe\"`\n",
    "- **Windows** (x86_64): `\"path/to/Tennis_Windows_x86_64/Tennis.exe\"`\n",
    "- **Linux** (x86): `\"path/to/Tennis_Linux/Tennis.x86\"`\n",
    "- **Linux** (x86_64): `\"path/to/Tennis_Linux/Tennis.x86_64\"`\n",
    "- **Linux** (x86, headless): `\"path/to/Tennis_Linux_NoVis/Tennis.x86\"`\n",
    "- **Linux** (x86_64, headless): `\"path/to/Tennis_Linux_NoVis/Tennis.x86_64\"`\n",
    "\n",
    "For instance, if you are using a Mac, then you downloaded `Tennis.app`.  If this file is in the same folder as the notebook, then the line below should appear as follows:\n",
    "```\n",
    "env = UnityEnvironment(file_name=\"Tennis.app\")\n",
    "```"
   ]
  },
  {
   "cell_type": "code",
   "execution_count": 3,
   "metadata": {},
   "outputs": [
    {
     "name": "stderr",
     "output_type": "stream",
     "text": [
      "INFO:unityagents:\n",
      "'Academy' started successfully!\n",
      "Unity Academy name: Academy\n",
      "        Number of Brains: 1\n",
      "        Number of External Brains : 1\n",
      "        Lesson number : 0\n",
      "        Reset Parameters :\n",
      "\t\t\n",
      "Unity brain name: TennisBrain\n",
      "        Number of Visual Observations (per agent): 0\n",
      "        Vector Observation space type: continuous\n",
      "        Vector Observation space size (per agent): 8\n",
      "        Number of stacked Vector Observation: 3\n",
      "        Vector Action space type: continuous\n",
      "        Vector Action space size (per agent): 2\n",
      "        Vector Action descriptions: , \n"
     ]
    }
   ],
   "source": [
    "env = UnityEnvironment(file_name=\"./Tennis_Linux/Tennis.x86_64\")"
   ]
  },
  {
   "cell_type": "markdown",
   "metadata": {},
   "source": [
    "Environments contain **_brains_** which are responsible for deciding the actions of their associated agents. Here we check for the first brain available, and set it as the default brain we will be controlling from Python."
   ]
  },
  {
   "cell_type": "code",
   "execution_count": 4,
   "metadata": {},
   "outputs": [],
   "source": [
    "# get the default brain\n",
    "brain_name = env.brain_names[0]\n",
    "brain = env.brains[brain_name]"
   ]
  },
  {
   "cell_type": "markdown",
   "metadata": {},
   "source": [
    "### 2. Examine the State and Action Spaces\n",
    "\n",
    "In this environment, two agents control rackets to bounce a ball over a net. If an agent hits the ball over the net, it receives a reward of +0.1.  If an agent lets a ball hit the ground or hits the ball out of bounds, it receives a reward of -0.01.  Thus, the goal of each agent is to keep the ball in play.\n",
    "\n",
    "The observation space consists of 8 variables corresponding to the position and velocity of the ball and racket. Two continuous actions are available, corresponding to movement toward (or away from) the net, and jumping. \n",
    "\n",
    "Run the code cell below to print some information about the environment."
   ]
  },
  {
   "cell_type": "code",
   "execution_count": 5,
   "metadata": {},
   "outputs": [
    {
     "name": "stdout",
     "output_type": "stream",
     "text": [
      "Number of agents: 2\n",
      "Size of each action: 2\n",
      "There are 2 agents. Each observes a state with length: 24\n",
      "The state for the first agent looks like: [ 0.          0.          0.          0.          0.          0.\n",
      "  0.          0.          0.          0.          0.          0.\n",
      "  0.          0.          0.          0.         -6.65278625 -1.5\n",
      " -0.          0.          6.83172083  6.         -0.          0.        ]\n"
     ]
    }
   ],
   "source": [
    "# reset the environment\n",
    "env_info = env.reset(train_mode=True)[brain_name]\n",
    "\n",
    "# number of agents \n",
    "num_agents = len(env_info.agents)\n",
    "print('Number of agents:', num_agents)\n",
    "\n",
    "# size of each action\n",
    "action_size = brain.vector_action_space_size\n",
    "print('Size of each action:', action_size)\n",
    "\n",
    "# examine the state space \n",
    "states = env_info.vector_observations\n",
    "state_size = states.shape[1]\n",
    "print('There are {} agents. Each observes a state with length: {}'.format(states.shape[0], state_size))\n",
    "print('The state for the first agent looks like:', states[0])"
   ]
  },
  {
   "cell_type": "markdown",
   "metadata": {},
   "source": [
    "### 3. Take Random Actions in the Environment\n",
    "\n",
    "In the next code cell, you will learn how to use the Python API to control the agents and receive feedback from the environment.\n",
    "\n",
    "Once this cell is executed, you will watch the agents' performance, if they select actions at random with each time step.  A window should pop up that allows you to observe the agents.\n",
    "\n",
    "Of course, as part of the project, you'll have to change the code so that the agents are able to use their experiences to gradually choose better actions when interacting with the environment!"
   ]
  },
  {
   "cell_type": "code",
   "execution_count": 6,
   "metadata": {},
   "outputs": [
    {
     "name": "stdout",
     "output_type": "stream",
     "text": [
      "Score (max over agents) from episode 1: 0.0\n",
      "Score (max over agents) from episode 2: 0.0\n",
      "Score (max over agents) from episode 3: 0.0\n",
      "Score (max over agents) from episode 4: 0.0\n",
      "Score (max over agents) from episode 5: 0.0\n"
     ]
    }
   ],
   "source": [
    "for i in range(1, 6):                                      # play game for 5 episodes\n",
    "    env_info = env.reset(train_mode=False)[brain_name]     # reset the environment    \n",
    "    states = env_info.vector_observations                  # get the current state (for each agent)\n",
    "    scores = np.zeros(num_agents)                          # initialize the score (for each agent)\n",
    "    while True:\n",
    "        actions = np.random.randn(num_agents, action_size) # select an action (for each agent)\n",
    "        actions = np.clip(actions, -1, 1)                  # all actions between -1 and 1\n",
    "        env_info = env.step(actions)[brain_name]           # send all actions to tne environment\n",
    "        next_states = env_info.vector_observations         # get next state (for each agent)\n",
    "        rewards = env_info.rewards                         # get reward (for each agent)\n",
    "        dones = env_info.local_done                        # see if episode finished\n",
    "        scores += env_info.rewards                         # update the score (for each agent)\n",
    "        states = next_states                               # roll over states to next time step\n",
    "        if np.any(dones):                                  # exit loop if episode finished\n",
    "            break\n",
    "    print('Score (max over agents) from episode {}: {}'.format(i, np.max(scores)))"
   ]
  },
  {
   "cell_type": "markdown",
   "metadata": {},
   "source": [
    "When finished, you can close the environment."
   ]
  },
  {
   "cell_type": "code",
   "execution_count": 7,
   "metadata": {},
   "outputs": [],
   "source": [
    "#env.close()"
   ]
  },
  {
   "cell_type": "markdown",
   "metadata": {},
   "source": [
    "### 4. It's Your Turn!\n",
    "\n",
    "Now it's your turn to train your own agent to solve the environment!  When training the environment, set `train_mode=True`, so that the line for resetting the environment looks like the following:\n",
    "```python\n",
    "env_info = env.reset(train_mode=True)[brain_name]\n",
    "```"
   ]
  },
  {
   "cell_type": "code",
   "execution_count": 8,
   "metadata": {},
   "outputs": [],
   "source": [
    "from maddpg_agents import MADDPGAgent\n",
    "agent = MADDPGAgent(state_size=state_size, action_size=action_size, num_agents=num_agents, random_seed=42)"
   ]
  },
  {
   "cell_type": "code",
   "execution_count": null,
   "metadata": {},
   "outputs": [
    {
     "name": "stdout",
     "output_type": "stream",
     "text": [
      "Episode 100\tAverage Score last 100: -0.00\tTime Elapsed: 0:00:22.654101d: 0:00:22.654101\n",
      "Episode 200\tAverage Score last 100: -0.00\tTime Elapsed: 0:00:51.030123d: 0:00:51.030123\n",
      "Episode 300\tAverage Score last 100: -0.00\tTime Elapsed: 0:01:21.299600d: 0:01:21.299600\n",
      "Episode 400\tAverage Score last 100: -0.00\tTime Elapsed: 0:01:51.680003d: 0:01:51.680003\n",
      "Episode 500\tAverage Score last 100: -0.00\tTime Elapsed: 0:02:19.697475d: 0:02:19.697475\n",
      "Episode 600\tAverage Score last 100: 0.02\tTime Elapsed: 0:03:02.610029: 0:03:02.61002977\n",
      "Episode 700\tAverage Score last 100: 0.03\tTime Elapsed: 0:03:56.046700: 0:03:56.0467006\n",
      "Episode 800\tAverage Score last 100: 0.03\tTime Elapsed: 0:04:51.514539: 0:04:51.5145394\n",
      "Episode 900\tAverage Score last 100: 0.05\tTime Elapsed: 0:06:00.329083: 0:06:00.3290833\n",
      "Episode 1000\tAverage Score last 100: 0.06\tTime Elapsed: 0:07:19.191595: 0:07:19.191595\n",
      "Episode 1100\tAverage Score last 100: 0.06\tTime Elapsed: 0:08:46.647356: 0:08:46.6473564\n",
      "Episode 1200\tAverage Score last 100: 0.11\tTime Elapsed: 0:10:59.337201: 0:10:59.3372018\n",
      "Episode 1300\tAverage Score last 100: 0.08\tTime Elapsed: 0:12:46.771911: 0:12:46.7719111\n",
      "Episode 1400\tAverage Score last 100: 0.11\tTime Elapsed: 0:14:58.598052: 0:14:58.5980523\n",
      "Episode 1500\tAverage Score last 100: 0.09\tTime Elapsed: 0:17:00.570150: 0:17:00.5701506\n",
      "Episode 1600\tAverage Score last 100: 0.11\tTime Elapsed: 0:19:08.598570: 0:19:08.5985706\n",
      "Episode 1700\tAverage Score last 100: 0.05\tTime Elapsed: 0:20:24.067801: 0:20:24.0678016\n",
      "Episode 1800\tAverage Score last 100: 0.05\tTime Elapsed: 0:21:37.803601: 0:21:37.8036015\n",
      "Episode 1900\tAverage Score last 100: 0.10\tTime Elapsed: 0:23:45.600682: 0:23:45.6006826\n",
      "Episode 2000\tAverage Score last 100: 0.18\tTime Elapsed: 0:27:10.738081d: 0:27:10.738081\n",
      "Episode 2100\tAverage Score last 100: 0.17\tTime Elapsed: 0:30:21.859100: 0:30:21.8591002\n",
      "Episode 2200\tAverage Score last 100: 0.25\tTime Elapsed: 0:35:09.472484: 0:35:09.4724843\n",
      "Episode 2300\tAverage Score last 100: 0.32\tTime Elapsed: 0:41:24.146246: 0:41:24.1462469\n",
      "Episode 2400\tAverage Score last 100: 0.33\tTime Elapsed: 0:48:04.169536: 0:48:04.1695364\n",
      "Episode 2500\tAverage Score last 100: 0.33\tTime Elapsed: 0:55:07.427223: 0:55:07.4272232\n",
      "Episode 2596\tAverage Score last 100: 0.35\tAvg Score: 0.70\tTime Elapsed: 1:02:50.9260911"
     ]
    }
   ],
   "source": [
    "def maddpg(agent, n_episodes=3500, max_t=4000):\n",
    "    scores_deque = deque(maxlen=100)\n",
    "    episode_scores = []\n",
    "    episode_avg_scores = []\n",
    "    max_score = -np.Inf\n",
    "    target_score = 0.5\n",
    "    \n",
    "    start_time = time.time()    \n",
    "    \n",
    "    for i_episode in range(1, n_episodes+1):\n",
    "        env_info = env.reset(train_mode=True)[brain_name]     # reset the environment    \n",
    "        states = env_info.vector_observations                  # get the current state (for each agent)\n",
    "        scores = np.zeros(num_agents)                          # initialize the score (for each agent)\n",
    "\n",
    "        agent.reset()\n",
    "        \n",
    "        for step in range(max_t):\n",
    "            actions = agent.act(states)\n",
    "            #actions = np.clip(actions, -1, 1)                  # all actions between -1 and 1\n",
    "            env_info = env.step(actions)[brain_name]           # send all actions to tne environment\n",
    "            next_states = env_info.vector_observations         # get next state (for each agent)\n",
    "            rewards = env_info.rewards                         # get reward (for each agent)\n",
    "            dones = env_info.local_done                        # see if episode finished\n",
    "            \n",
    "            scores += env_info.rewards                         # update the score (for each agent)\n",
    "\n",
    "            agent.step(states, actions, rewards, next_states, dones, step)\n",
    "                \n",
    "            states = next_states                               # roll over states to next time step\n",
    "            if np.any(dones):                                  # exit loop if episode finished\n",
    "                break\n",
    "\n",
    "        max_score = np.max(scores)\n",
    "        scores_deque.append(max_score)\n",
    "        episode_scores.append(max_score)\n",
    "        episode_avg_scores.append(np.mean(scores_deque))\n",
    "        time_diff = str(timedelta(seconds=time.time() - start_time))\n",
    "        print('\\rEpisode {}\\tAverage Score last 100: {:.2f}\\tMax Score: {:.2f}\\tTime Elapsed: {}'\n",
    "              .format(i_episode, np.mean(scores_deque), avg_score, time_diff), end=\"\")\n",
    "        if i_episode % 100 == 0:\n",
    "            agent.save_weights()\n",
    "            print('\\rEpisode {}\\tAverage Score last 100: {:.2f}\\tTime Elapsed: {}'\n",
    "                  .format(i_episode, np.mean(scores_deque),time_diff))   \n",
    "                        \n",
    "            if np.mean(scores_deque) >=target_score and len(scores_deque)>=100:\n",
    "                break\n",
    "    return episode_scores,episode_avg_scores\n",
    "\n",
    "scores, moving_avg_scores = maddpg(agent)\n",
    "\n",
    "fig = plt.figure()\n",
    "ax = fig.add_subplot(111)\n",
    "plt.plot(np.arange(1, len(scores)+1), scores,  label='max score')\n",
    "plt.plot(np.arange(1, len(moving_avg_scores)+1), moving_avg_scores, c='r', label='moving avg')\n",
    "plt.ylabel('Score')\n",
    "plt.xlabel('Episode #')\n",
    "plt.show()"
   ]
  },
  {
   "cell_type": "code",
   "execution_count": null,
   "metadata": {},
   "outputs": [],
   "source": [
    "env.close()"
   ]
  }
 ],
 "metadata": {
  "kernelspec": {
   "display_name": "drlnd",
   "language": "python",
   "name": "drlnd"
  },
  "language_info": {
   "codemirror_mode": {
    "name": "ipython",
    "version": 3
   },
   "file_extension": ".py",
   "mimetype": "text/x-python",
   "name": "python",
   "nbconvert_exporter": "python",
   "pygments_lexer": "ipython3",
   "version": "3.6.10"
  }
 },
 "nbformat": 4,
 "nbformat_minor": 2
}
